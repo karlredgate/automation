{
  "nbformat": 4,
  "nbformat_minor": 0,
  "metadata": {
    "colab": {
      "name": "SQLite Pandas Examples.ipynb",
      "provenance": [],
      "collapsed_sections": [],
      "include_colab_link": true
    },
    "kernelspec": {
      "name": "python3",
      "display_name": "Python 3"
    }
  },
  "cells": [
    {
      "cell_type": "markdown",
      "metadata": {
        "id": "view-in-github",
        "colab_type": "text"
      },
      "source": [
        "<a href=\"https://colab.research.google.com/github/karlredgate/automation/blob/master/colab/SQLite_Pandas_Examples.ipynb\" target=\"_parent\"><img src=\"https://colab.research.google.com/assets/colab-badge.svg\" alt=\"Open In Colab\"/></a>"
      ]
    },
    {
      "cell_type": "code",
      "metadata": {
        "id": "caCJFRv6Irrp",
        "colab_type": "code",
        "colab": {}
      },
      "source": [
        "import sqlite3 as sl"
      ],
      "execution_count": null,
      "outputs": []
    },
    {
      "cell_type": "code",
      "metadata": {
        "id": "7xKOQPWEJEBw",
        "colab_type": "code",
        "colab": {}
      },
      "source": [
        "con = sl.connect('my-test.db')"
      ],
      "execution_count": null,
      "outputs": []
    },
    {
      "cell_type": "code",
      "metadata": {
        "id": "eSfFfu7JNGNM",
        "colab_type": "code",
        "colab": {}
      },
      "source": [
        "with con:\n",
        "    con.execute(\"\"\"\n",
        "        CREATE TABLE USER (\n",
        "            id INTEGER NOT NULL PRIMARY KEY AUTOINCREMENT,\n",
        "            name TEXT,\n",
        "            age INTEGER\n",
        "        );\n",
        "    \"\"\")"
      ],
      "execution_count": null,
      "outputs": []
    },
    {
      "cell_type": "code",
      "metadata": {
        "id": "5z8jwi2sKFHa",
        "colab_type": "code",
        "colab": {}
      },
      "source": [
        "sql = 'INSERT INTO USER (id, name, age) values(?, ?, ?)'\n",
        "data = [\n",
        "    (1, 'Alice', 21),\n",
        "    (2, 'Bob', 22),\n",
        "    (3, 'Chris', 23)\n",
        "]"
      ],
      "execution_count": null,
      "outputs": []
    },
    {
      "cell_type": "code",
      "metadata": {
        "id": "gUN6znY5QDnm",
        "colab_type": "code",
        "colab": {}
      },
      "source": [
        "with con:\n",
        "    con.executemany(sql, data)"
      ],
      "execution_count": null,
      "outputs": []
    },
    {
      "cell_type": "code",
      "metadata": {
        "id": "wykW-sQoSLqM",
        "colab_type": "code",
        "colab": {
          "base_uri": "https://localhost:8080/",
          "height": 51
        },
        "outputId": "d5954d2a-502d-44cd-a3a6-cdb548020cfd"
      },
      "source": [
        "with con:\n",
        "    data = con.execute(\"SELECT * FROM USER WHERE age <= 22\")\n",
        "    for row in data:\n",
        "        print(row)"
      ],
      "execution_count": null,
      "outputs": [
        {
          "output_type": "stream",
          "text": [
            "(1, 'Alice', 21)\n",
            "(2, 'Bob', 22)\n"
          ],
          "name": "stdout"
        }
      ]
    },
    {
      "cell_type": "markdown",
      "metadata": {
        "id": "0vaZI8lN59aZ",
        "colab_type": "text"
      },
      "source": [
        "# Integrate with Pandas"
      ]
    },
    {
      "cell_type": "code",
      "metadata": {
        "id": "ZyFb0Hzl6Biy",
        "colab_type": "code",
        "colab": {}
      },
      "source": [
        "import pandas as pd"
      ],
      "execution_count": null,
      "outputs": []
    },
    {
      "cell_type": "code",
      "metadata": {
        "id": "UrMtn3tt6Am0",
        "colab_type": "code",
        "colab": {
          "base_uri": "https://localhost:8080/",
          "height": 266
        },
        "outputId": "356672e4-b785-44a5-9c88-6e6444f62e19"
      },
      "source": [
        "df_skill = pd.DataFrame({\n",
        "    'user_id': [1,1,2,2,3,3,3],\n",
        "    'skill': ['Network Security', 'Algorithm Development', 'Network Security', 'Java', 'Python', 'Data Science', 'Machine Learning']\n",
        "})\n",
        "df_skill"
      ],
      "execution_count": null,
      "outputs": [
        {
          "output_type": "execute_result",
          "data": {
            "text/html": [
              "<div>\n",
              "<style scoped>\n",
              "    .dataframe tbody tr th:only-of-type {\n",
              "        vertical-align: middle;\n",
              "    }\n",
              "\n",
              "    .dataframe tbody tr th {\n",
              "        vertical-align: top;\n",
              "    }\n",
              "\n",
              "    .dataframe thead th {\n",
              "        text-align: right;\n",
              "    }\n",
              "</style>\n",
              "<table border=\"1\" class=\"dataframe\">\n",
              "  <thead>\n",
              "    <tr style=\"text-align: right;\">\n",
              "      <th></th>\n",
              "      <th>user_id</th>\n",
              "      <th>skill</th>\n",
              "    </tr>\n",
              "  </thead>\n",
              "  <tbody>\n",
              "    <tr>\n",
              "      <th>0</th>\n",
              "      <td>1</td>\n",
              "      <td>Network Security</td>\n",
              "    </tr>\n",
              "    <tr>\n",
              "      <th>1</th>\n",
              "      <td>1</td>\n",
              "      <td>Algorithm Development</td>\n",
              "    </tr>\n",
              "    <tr>\n",
              "      <th>2</th>\n",
              "      <td>2</td>\n",
              "      <td>Network Security</td>\n",
              "    </tr>\n",
              "    <tr>\n",
              "      <th>3</th>\n",
              "      <td>2</td>\n",
              "      <td>Java</td>\n",
              "    </tr>\n",
              "    <tr>\n",
              "      <th>4</th>\n",
              "      <td>3</td>\n",
              "      <td>Python</td>\n",
              "    </tr>\n",
              "    <tr>\n",
              "      <th>5</th>\n",
              "      <td>3</td>\n",
              "      <td>Data Science</td>\n",
              "    </tr>\n",
              "    <tr>\n",
              "      <th>6</th>\n",
              "      <td>3</td>\n",
              "      <td>Machine Learning</td>\n",
              "    </tr>\n",
              "  </tbody>\n",
              "</table>\n",
              "</div>"
            ],
            "text/plain": [
              "   user_id                  skill\n",
              "0        1       Network Security\n",
              "1        1  Algorithm Development\n",
              "2        2       Network Security\n",
              "3        2                   Java\n",
              "4        3                 Python\n",
              "5        3           Data Science\n",
              "6        3       Machine Learning"
            ]
          },
          "metadata": {
            "tags": []
          },
          "execution_count": 8
        }
      ]
    },
    {
      "cell_type": "code",
      "metadata": {
        "id": "uwSkT-UC6dXq",
        "colab_type": "code",
        "colab": {}
      },
      "source": [
        "df_skill.to_sql('SKILL', con)"
      ],
      "execution_count": null,
      "outputs": []
    },
    {
      "cell_type": "code",
      "metadata": {
        "id": "Xatn7CpfepCG",
        "colab_type": "code",
        "colab": {
          "base_uri": "https://localhost:8080/",
          "height": 266
        },
        "outputId": "25fc622f-2479-481c-f643-f26c8eef8530"
      },
      "source": [
        "df = pd.read_sql('''\n",
        "    SELECT s.user_id, u.name, u.age, s.skill \n",
        "    FROM USER u LEFT JOIN SKILL s ON u.id = s.user_id\n",
        "''', con)\n",
        "\n",
        "df"
      ],
      "execution_count": null,
      "outputs": [
        {
          "output_type": "execute_result",
          "data": {
            "text/html": [
              "<div>\n",
              "<style scoped>\n",
              "    .dataframe tbody tr th:only-of-type {\n",
              "        vertical-align: middle;\n",
              "    }\n",
              "\n",
              "    .dataframe tbody tr th {\n",
              "        vertical-align: top;\n",
              "    }\n",
              "\n",
              "    .dataframe thead th {\n",
              "        text-align: right;\n",
              "    }\n",
              "</style>\n",
              "<table border=\"1\" class=\"dataframe\">\n",
              "  <thead>\n",
              "    <tr style=\"text-align: right;\">\n",
              "      <th></th>\n",
              "      <th>user_id</th>\n",
              "      <th>name</th>\n",
              "      <th>age</th>\n",
              "      <th>skill</th>\n",
              "    </tr>\n",
              "  </thead>\n",
              "  <tbody>\n",
              "    <tr>\n",
              "      <th>0</th>\n",
              "      <td>1</td>\n",
              "      <td>Alice</td>\n",
              "      <td>21</td>\n",
              "      <td>Algorithm Development</td>\n",
              "    </tr>\n",
              "    <tr>\n",
              "      <th>1</th>\n",
              "      <td>1</td>\n",
              "      <td>Alice</td>\n",
              "      <td>21</td>\n",
              "      <td>Network Security</td>\n",
              "    </tr>\n",
              "    <tr>\n",
              "      <th>2</th>\n",
              "      <td>2</td>\n",
              "      <td>Bob</td>\n",
              "      <td>22</td>\n",
              "      <td>Java</td>\n",
              "    </tr>\n",
              "    <tr>\n",
              "      <th>3</th>\n",
              "      <td>2</td>\n",
              "      <td>Bob</td>\n",
              "      <td>22</td>\n",
              "      <td>Network Security</td>\n",
              "    </tr>\n",
              "    <tr>\n",
              "      <th>4</th>\n",
              "      <td>3</td>\n",
              "      <td>Chris</td>\n",
              "      <td>23</td>\n",
              "      <td>Data Science</td>\n",
              "    </tr>\n",
              "    <tr>\n",
              "      <th>5</th>\n",
              "      <td>3</td>\n",
              "      <td>Chris</td>\n",
              "      <td>23</td>\n",
              "      <td>Machine Learning</td>\n",
              "    </tr>\n",
              "    <tr>\n",
              "      <th>6</th>\n",
              "      <td>3</td>\n",
              "      <td>Chris</td>\n",
              "      <td>23</td>\n",
              "      <td>Python</td>\n",
              "    </tr>\n",
              "  </tbody>\n",
              "</table>\n",
              "</div>"
            ],
            "text/plain": [
              "   user_id   name  age                  skill\n",
              "0        1  Alice   21  Algorithm Development\n",
              "1        1  Alice   21       Network Security\n",
              "2        2    Bob   22                   Java\n",
              "3        2    Bob   22       Network Security\n",
              "4        3  Chris   23           Data Science\n",
              "5        3  Chris   23       Machine Learning\n",
              "6        3  Chris   23                 Python"
            ]
          },
          "metadata": {
            "tags": []
          },
          "execution_count": 10
        }
      ]
    },
    {
      "cell_type": "code",
      "metadata": {
        "id": "7hgWSzcuevTY",
        "colab_type": "code",
        "colab": {}
      },
      "source": [
        "df.to_sql('USER_SKILL', con)"
      ],
      "execution_count": null,
      "outputs": []
    },
    {
      "cell_type": "code",
      "metadata": {
        "id": "Ybe84rOkfv2f",
        "colab_type": "code",
        "colab": {}
      },
      "source": [
        ""
      ],
      "execution_count": null,
      "outputs": []
    }
  ]
}